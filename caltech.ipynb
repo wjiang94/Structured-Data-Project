{
 "cells": [
  {
   "cell_type": "code",
   "execution_count": 48,
   "metadata": {
    "collapsed": false
   },
   "outputs": [],
   "source": [
    "import os\n",
    "from scipy.misc import imread\n",
    "from sklearn.model_selection import train_test_split\n",
    "from datetime import datetime\n",
    "import pickle\n",
    "import scipy.io\n",
    "import numpy as np\n",
    "from numpy import linalg as LA\n",
    "import time\n",
    "import matplotlib.pyplot as plt\n",
    "%matplotlib inline\n",
    "from sklearn.metrics.pairwise import rbf_kernel\n",
    "from sklearn.metrics import accuracy_score\n",
    "\n",
    "\n",
    "from train_test_split import split\n",
    "from okl_fct import okl, lrokl, mse, predict\n",
    "\n",
    "\n",
    "def load_feature():\n",
    "    \"\"\"\n",
    "    load features directly\n",
    "    \"\"\"   \n",
    "    with open('features/hog_train.dat', 'rb') as f:\n",
    "        hog_train = pickle.load(f)\n",
    "    with open('features/hog_test.dat', 'rb') as f:\n",
    "        hog_test = pickle.load(f)\n",
    "    with open('features/sift_train.dat', 'rb') as f:\n",
    "        sift_train = pickle.load(f)\n",
    "    with open('features/sift_test.dat', 'rb') as f:\n",
    "        sift_test = pickle.load(f)\n",
    "    return hog_train, hog_test, sift_train, sift_test\n",
    "\n",
    "hog_train, hog_test, sift_train, sift_test = load_feature()\n",
    "label_unique, X_train, X_test, y_train, y_test = split()"
   ]
  },
  {
   "cell_type": "code",
   "execution_count": 2,
   "metadata": {
    "collapsed": false
   },
   "outputs": [
    {
     "name": "stdout",
     "output_type": "stream",
     "text": [
      "size train: 7316\n",
      "size test: 1829\n",
      "dim hog: 1764\n",
      "dim sift: 156\n"
     ]
    }
   ],
   "source": [
    "print('size train: %i'%len(X_train))\n",
    "print('size test: %i'%len(X_test))\n",
    "print('dim hog: %i'%len(hog_train[0]))\n",
    "print('dim sift: %i'%len(sift_train[0]))"
   ]
  },
  {
   "cell_type": "markdown",
   "metadata": {},
   "source": [
    "# HOG\n",
    "### train"
   ]
  },
  {
   "cell_type": "code",
   "execution_count": 19,
   "metadata": {
    "collapsed": false
   },
   "outputs": [],
   "source": [
    "hog_train_arr=np.array(hog_train).reshape((len(hog_train),len(hog_train[0])))\n",
    "hog_test_arr=np.array(hog_test).reshape((len(hog_test),len(hog_test[0])))\n",
    "#sift_train_arr=np.array(sift_train).reshape((len(sift_train),len(sift_train[0]),len(sift_train[0][0])))\n",
    "#sift_test_arr=np.array(sift_test).reshape((len(sift_test),len(sift_test[0]),len(sift_test[0][0])))\n",
    "K_hog_train = rbf_kernel(hog_train_arr)\n",
    "K_hog_test = rbf_kernel(hog_test_arr,hog_train_arr)"
   ]
  },
  {
   "cell_type": "code",
   "execution_count": 27,
   "metadata": {
    "collapsed": false
   },
   "outputs": [
    {
     "data": {
      "text/plain": [
       "(1829, 7316)"
      ]
     },
     "execution_count": 27,
     "metadata": {},
     "output_type": "execute_result"
    }
   ],
   "source": [
    "K_hog_test.shape"
   ]
  },
  {
   "cell_type": "code",
   "execution_count": 22,
   "metadata": {
    "collapsed": false
   },
   "outputs": [
    {
     "name": "stdout",
     "output_type": "stream",
     "text": [
      "lambda = 0.1\n"
     ]
    }
   ],
   "source": [
    "lam=np.array([0.1])\n",
    "p_list = [1]\n",
    "model_hog = okl(K_hog_train,y_train,lam)"
   ]
  },
  {
   "cell_type": "markdown",
   "metadata": {
    "collapsed": false
   },
   "source": [
    "### test(lambda = 0.1)"
   ]
  },
  {
   "cell_type": "code",
   "execution_count": 38,
   "metadata": {
    "collapsed": false
   },
   "outputs": [
    {
     "data": {
      "text/plain": [
       "(1829, 102)"
      ]
     },
     "execution_count": 38,
     "metadata": {},
     "output_type": "execute_result"
    }
   ],
   "source": [
    "pred_test = predict(K_hog_test,model_hog[0]['C'],model_hog[0]['L'])\n",
    "pred_test.shape"
   ]
  },
  {
   "cell_type": "code",
   "execution_count": 39,
   "metadata": {
    "collapsed": false
   },
   "outputs": [
    {
     "data": {
      "text/plain": [
       "0.38019988849078268"
      ]
     },
     "execution_count": 39,
     "metadata": {},
     "output_type": "execute_result"
    }
   ],
   "source": [
    "np.max(pred_test)"
   ]
  },
  {
   "cell_type": "code",
   "execution_count": 43,
   "metadata": {
    "collapsed": true
   },
   "outputs": [],
   "source": [
    "pred_test_clf = np.zeros(pred_test.shape)\n",
    "for k in range(len(pred_test)):\n",
    "    n = np.argmax(pred_test[k])\n",
    "    pred_test_clf[k,n]=1"
   ]
  },
  {
   "cell_type": "code",
   "execution_count": 47,
   "metadata": {
    "collapsed": false
   },
   "outputs": [
    {
     "data": {
      "text/plain": [
       "0.078184800437397478"
      ]
     },
     "execution_count": 47,
     "metadata": {},
     "output_type": "execute_result"
    }
   ],
   "source": [
    "accuracy_score(y_test,pred_test_clf)"
   ]
  },
  {
   "cell_type": "markdown",
   "metadata": {
    "collapsed": true
   },
   "source": [
    "# SIFT"
   ]
  },
  {
   "cell_type": "code",
   "execution_count": 51,
   "metadata": {
    "collapsed": true
   },
   "outputs": [],
   "source": [
    "K_sift_train = rbf_kernel(sift_train)\n",
    "K_sift_test = rbf_kernel(sift_test,sift_train)"
   ]
  },
  {
   "cell_type": "code",
   "execution_count": 55,
   "metadata": {
    "collapsed": false
   },
   "outputs": [
    {
     "data": {
      "text/plain": [
       "array([[5, 6]])"
      ]
     },
     "execution_count": 55,
     "metadata": {},
     "output_type": "execute_result"
    }
   ],
   "source": [
    "a= np.array([[1,2],[3,4],[5,6]])\n",
    "np.delete(a,(0,1),0)"
   ]
  },
  {
   "cell_type": "code",
   "execution_count": 56,
   "metadata": {
    "collapsed": true
   },
   "outputs": [],
   "source": [
    "y_train_sift = np.delete(y_train, (3545,6546), 0)"
   ]
  },
  {
   "cell_type": "code",
   "execution_count": 57,
   "metadata": {
    "collapsed": false
   },
   "outputs": [
    {
     "name": "stdout",
     "output_type": "stream",
     "text": [
      "lambda = 20\n"
     ]
    }
   ],
   "source": [
    "lam=np.array([20])\n",
    "p_list = [1]\n",
    "model_sift = okl(K_sift_train,y_train_sift,lam)"
   ]
  },
  {
   "cell_type": "markdown",
   "metadata": {},
   "source": [
    "### test(lambda = 20)"
   ]
  },
  {
   "cell_type": "code",
   "execution_count": 60,
   "metadata": {
    "collapsed": false
   },
   "outputs": [
    {
     "data": {
      "text/plain": [
       "(1829, 102)"
      ]
     },
     "execution_count": 60,
     "metadata": {},
     "output_type": "execute_result"
    }
   ],
   "source": [
    "pred_test_sift = predict(K_sift_test,model_sift[0]['C'],model_sift[0]['L'])\n",
    "pred_test_sift.shape"
   ]
  },
  {
   "cell_type": "code",
   "execution_count": 61,
   "metadata": {
    "collapsed": true
   },
   "outputs": [],
   "source": [
    "pred_test_clf_sift = np.zeros(pred_test_sift.shape)\n",
    "for k in range(len(pred_test_sift)):\n",
    "    n = np.argmax(pred_test_sift[k])\n",
    "    pred_test_clf_sift[k,n]=1"
   ]
  },
  {
   "cell_type": "code",
   "execution_count": 62,
   "metadata": {
    "collapsed": false
   },
   "outputs": [
    {
     "data": {
      "text/plain": [
       "0.084745762711864403"
      ]
     },
     "execution_count": 62,
     "metadata": {},
     "output_type": "execute_result"
    }
   ],
   "source": [
    "accuracy_score(y_test,pred_test_clf_sift)"
   ]
  },
  {
   "cell_type": "code",
   "execution_count": null,
   "metadata": {
    "collapsed": true
   },
   "outputs": [],
   "source": []
  }
 ],
 "metadata": {
  "anaconda-cloud": {},
  "kernelspec": {
   "display_name": "Python [conda root]",
   "language": "python",
   "name": "conda-root-py"
  },
  "language_info": {
   "codemirror_mode": {
    "name": "ipython",
    "version": 3
   },
   "file_extension": ".py",
   "mimetype": "text/x-python",
   "name": "python",
   "nbconvert_exporter": "python",
   "pygments_lexer": "ipython3",
   "version": "3.5.2"
  }
 },
 "nbformat": 4,
 "nbformat_minor": 1
}
