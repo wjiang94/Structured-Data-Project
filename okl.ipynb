{
 "cells": [
  {
   "cell_type": "code",
   "execution_count": 37,
   "metadata": {
    "collapsed": true
   },
   "outputs": [],
   "source": [
    "import scipy.io\n",
    "import numpy as np\n",
    "from numpy import linalg as LA\n",
    "mat = scipy.io.loadmat('okl/data/synthdata.mat')"
   ]
  },
  {
   "cell_type": "code",
   "execution_count": 6,
   "metadata": {
    "collapsed": false
   },
   "outputs": [
    {
     "data": {
      "text/plain": [
       "{'K': array([[  1.00000000e+00,   9.04382840e-01,   8.17908321e-01, ...,\n",
       "           2.52003014e-09,   2.27907202e-09,   2.06115362e-09],\n",
       "        [  9.04382840e-01,   1.00000000e+00,   9.04382840e-01, ...,\n",
       "           2.78646391e-09,   2.52003014e-09,   2.27907202e-09],\n",
       "        [  8.17908321e-01,   9.04382840e-01,   1.00000000e+00, ...,\n",
       "           3.08106676e-09,   2.78646391e-09,   2.52003014e-09],\n",
       "        ..., \n",
       "        [  2.52003014e-09,   2.78646391e-09,   3.08106676e-09, ...,\n",
       "           1.00000000e+00,   9.04382840e-01,   8.17908321e-01],\n",
       "        [  2.27907202e-09,   2.52003014e-09,   2.78646391e-09, ...,\n",
       "           9.04382840e-01,   1.00000000e+00,   9.04382840e-01],\n",
       "        [  2.06115362e-09,   2.27907202e-09,   2.52003014e-09, ...,\n",
       "           8.17908321e-01,   9.04382840e-01,   1.00000000e+00]]),\n",
       " 'Ktest': array([[  6.62998371e-02,   2.40513137e-03,   5.47159420e-01, ...,\n",
       "           5.99604350e-02,   4.64717094e-08,   1.17952786e-04],\n",
       "        [  7.33094815e-02,   2.65941730e-03,   6.05008626e-01, ...,\n",
       "           6.62998371e-02,   5.13849968e-08,   1.30423512e-04],\n",
       "        [  8.10602305e-02,   2.94058797e-03,   6.68974022e-01, ...,\n",
       "           7.33094815e-02,   5.68177486e-08,   1.44212723e-04],\n",
       "        ..., \n",
       "        [  3.80095978e-08,   1.04777235e-06,   4.60565980e-09, ...,\n",
       "           4.20282165e-08,   5.42271885e-02,   2.13647360e-05],\n",
       "        [  3.43752280e-08,   9.47587332e-07,   4.16527969e-09, ...,\n",
       "           3.80095978e-08,   4.90421387e-02,   1.93219006e-05],\n",
       "        [  3.10883663e-08,   8.56981722e-07,   3.76700747e-09, ...,\n",
       "           3.43752280e-08,   4.43528687e-02,   1.74743954e-05]]),\n",
       " 'Ktrain': array([[  1.00000000e+00,   3.62765804e-02,   1.21170969e-01, ...,\n",
       "           9.04382840e-01,   7.00932482e-07,   1.77908109e-03],\n",
       "        [  3.62765804e-02,   1.00000000e+00,   4.39566840e-03, ...,\n",
       "           4.01119733e-02,   1.93219006e-05,   4.90421387e-02],\n",
       "        [  1.21170969e-01,   4.39566840e-03,   1.00000000e+00, ...,\n",
       "           1.09584945e-01,   8.49326680e-08,   2.15572979e-04],\n",
       "        ..., \n",
       "        [  9.04382840e-01,   4.01119733e-02,   1.09584945e-01, ...,\n",
       "           1.00000000e+00,   7.75039564e-07,   1.96717696e-03],\n",
       "        [  7.00932482e-07,   1.93219006e-05,   8.49326680e-08, ...,\n",
       "           7.75039564e-07,   1.00000000e+00,   3.93985686e-04],\n",
       "        [  1.77908109e-03,   4.90421387e-02,   2.15572979e-04, ...,\n",
       "           1.96717696e-03,   3.93985686e-04,   1.00000000e+00]]),\n",
       " 'Kvalid': array([[  7.33094815e-02,   2.65941730e-03,   6.05008626e-01, ...,\n",
       "           6.62998371e-02,   5.13849968e-08,   1.30423512e-04],\n",
       "        [  8.10602305e-02,   2.94058797e-03,   6.68974022e-01, ...,\n",
       "           7.33094815e-02,   5.68177486e-08,   1.44212723e-04],\n",
       "        [  1.09584945e-01,   3.97536707e-03,   9.04382840e-01, ...,\n",
       "           9.91067439e-02,   7.68116475e-08,   1.94960503e-04],\n",
       "        ..., \n",
       "        [  4.64717094e-08,   1.28103886e-06,   5.63102205e-09, ...,\n",
       "           5.13849968e-08,   6.62998371e-02,   2.61211868e-05],\n",
       "        [  4.20282165e-08,   1.15854957e-06,   5.09259972e-09, ...,\n",
       "           4.64717094e-08,   5.99604350e-02,   2.36235531e-05],\n",
       "        [  3.43752280e-08,   9.47587332e-07,   4.16527969e-09, ...,\n",
       "           3.80095978e-08,   4.90421387e-02,   1.93219006e-05]]),\n",
       " 'Y': array([[-12.72649538,  -4.77550608,  -1.80209008, ...,  -2.63400936,\n",
       "          -9.3350534 ,  -5.43081652],\n",
       "        [  7.93727452,  -4.63280842,  -3.92302129, ...,  -1.19912081,\n",
       "           0.89293999,  -4.05416953],\n",
       "        [ -0.58147676,  -6.18576388, -12.05540242, ...,  -5.73148009,\n",
       "          -4.24429356,  -1.34323329],\n",
       "        ..., \n",
       "        [ -3.08705212,   7.73574284,  -1.67094976, ...,  -1.01494999,\n",
       "           2.63356738,   2.27175264],\n",
       "        [  1.09981951,  -4.934715  ,   2.69925211, ...,   5.11525931,\n",
       "           3.47465809,  -2.63858276],\n",
       "        [  3.46783936,  -5.80653506,  -0.67010257, ...,   4.7744892 ,\n",
       "           4.93848588,  -4.88605175]]),\n",
       " 'Y0': array([[-4.50463354, -1.14200151, -6.46157522, ..., -1.90869023,\n",
       "         -2.55570539, -4.23144213],\n",
       "        [-4.13643648,  0.0113716 , -6.0278089 , ..., -1.07827845,\n",
       "         -2.47168743, -1.9770365 ],\n",
       "        [-6.04133424, -0.70900923, -6.37393532, ..., -1.21910498,\n",
       "         -2.93856816, -2.96630369],\n",
       "        ..., \n",
       "        [ 0.34752346, -1.13952592,  3.46088649, ..., -0.64504552,\n",
       "          5.08775496, -0.77381296],\n",
       "        [ 1.12143061,  1.261426  ,  3.57453788, ...,  2.94343881,\n",
       "          5.13385739,  1.06404512],\n",
       "        [-1.46226405, -0.1267082 ,  0.69339899, ...,  2.31875543,\n",
       "          3.956744  , -1.7741681 ]]),\n",
       " 'Ytrain': array([[  5.10745888,   8.73607855,  -5.31217222, ...,   4.03042266,\n",
       "          -0.52386721,   1.13786283],\n",
       "        [ -3.1148797 ,   5.78824148,  11.63907024, ...,   1.87481771,\n",
       "           4.00375755,   0.76690322],\n",
       "        [ -4.90577066,  -3.99842104,  -3.33853155, ...,  -1.27154955,\n",
       "          -4.22392797,  -2.30742179],\n",
       "        ..., \n",
       "        [  0.21555065,   1.88605534,   4.62292311, ...,  -2.70189044,\n",
       "          -2.74762612,   3.90489274],\n",
       "        [  3.50400352,  -3.49565026,  -3.43089396, ...,  -3.88686322,\n",
       "           1.13492539,  -0.55514663],\n",
       "        [  5.92642643,  -0.92376149,  11.86323585, ...,   2.16340853,\n",
       "           0.68967443,   8.06525136]]),\n",
       " 'Yvalid': array([[  7.93727452,  -4.63280842,  -3.92302129, ...,  -1.19912081,\n",
       "           0.89293999,  -4.05416953],\n",
       "        [ -0.58147676,  -6.18576388, -12.05540242, ...,  -5.73148009,\n",
       "          -4.24429356,  -1.34323329],\n",
       "        [ -7.36992242,   3.65325803,  -8.67015017, ...,   3.11550728,\n",
       "           1.39783447,   2.98090402],\n",
       "        ..., \n",
       "        [ -6.68263703,   7.63218665,   3.65760961, ...,  -7.78476393,\n",
       "           6.96369018,  -9.46085774],\n",
       "        [ -4.20377223,  -1.12495482,   0.50748751, ...,  -1.66634091,\n",
       "           3.08654905,   1.77174097],\n",
       "        [  1.09981951,  -4.934715  ,   2.69925211, ...,   5.11525931,\n",
       "           3.47465809,  -2.63858276]]),\n",
       " '__globals__': [],\n",
       " '__header__': 'MATLAB 5.0 MAT-file, Platform: PCWIN64, Created on: Tue Jul 19 11:28:49 2011',\n",
       " '__version__': '1.0'}"
      ]
     },
     "execution_count": 6,
     "metadata": {},
     "output_type": "execute_result"
    }
   ],
   "source": [
    "mat"
   ]
  },
  {
   "cell_type": "code",
   "execution_count": 15,
   "metadata": {
    "collapsed": false
   },
   "outputs": [
    {
     "name": "stdout",
     "output_type": "stream",
     "text": [
      "Shape of Ktest:\n",
      "(200, 100)\n",
      "Shape of Ktrain:\n",
      "(100, 100)\n",
      "Shape of Kvalid:\n",
      "(100, 100)\n",
      "Shape of Ytrain:\n",
      "(100, 200)\n",
      "Shape of Yvalid:\n",
      "(100, 200)\n",
      "Shape of K:\n",
      "(200, 200)\n",
      "Shape of Y0:\n",
      "(200, 200)\n",
      "Shape of Y:\n",
      "(200, 200)\n"
     ]
    }
   ],
   "source": [
    "print('Shape of Ktest:')\n",
    "print(mat['Ktest'].shape)\n",
    "print('Shape of Ktrain:')\n",
    "print(mat['Ktrain'].shape)\n",
    "print('Shape of Kvalid:')\n",
    "print(mat['Kvalid'].shape)\n",
    "\n",
    "print('Shape of Ytrain:')\n",
    "print(mat['Ytrain'].shape)\n",
    "print('Shape of Yvalid:')\n",
    "print(mat['Yvalid'].shape)\n",
    "\n",
    "print('Shape of K:')\n",
    "print(mat['K'].shape)\n",
    "print('Shape of Y0:')\n",
    "print(mat['Y0'].shape)\n",
    "print('Shape of Y:')\n",
    "print(mat['Y'].shape)"
   ]
  },
  {
   "cell_type": "code",
   "execution_count": 38,
   "metadata": {
    "collapsed": false
   },
   "outputs": [],
   "source": [
    "K = mat['Ktrain']\n",
    "Y = mat['Ytrain']\n",
    "N = 30\n",
    "\n",
    "######################why choose lam_list like this ?\n",
    "lam_list = np.logspace(-5,0,N) * np.sqrt(LA.norm(np.dot(np.dot(Y.T,K),Y)))\n",
    "lam_list = np.sort(lam_list)[::-1]\n",
    "MSE  = np.zeros((N,100))\n",
    "VMSE  = np.zeros((N,100))\n",
    "TIME = np.zeros((N,100))\n",
    "\n",
    "#constants\n",
    "l = K.shape[0]\n",
    "m = Y.shape[1]\n",
    "N = lam_list.shape[0]\n",
    "MAX_ITER = 1000\n",
    "TOL = 0.01\n",
    "delta = TOL * LA.norm(Y)\n",
    "\n",
    "# initialization \n",
    "J = np.zeros(MAX_ITER)\n",
    "L = np.eye(m)\n",
    "C = np.zeros((l,m))"
   ]
  },
  {
   "cell_type": "code",
   "execution_count": 49,
   "metadata": {
    "collapsed": false
   },
   "outputs": [],
   "source": [
    "# eigendecomposition of the input kernel matrix\n",
    "############################## why\n",
    "UX, DX = LA.eig(K)\n",
    "dx = abs(np.diag(DX))###################################\n",
    "Ytilde = np.dot(UX.T,Y)"
   ]
  },
  {
   "cell_type": "code",
   "execution_count": 51,
   "metadata": {
    "collapsed": false
   },
   "outputs": [
    {
     "data": {
      "text/plain": [
       "(200,)"
      ]
     },
     "execution_count": 51,
     "metadata": {},
     "output_type": "execute_result"
    }
   ],
   "source": [
    "UY, DY = LA.eig(L)\n",
    "abs(np.diag(DY)).shape"
   ]
  },
  {
   "cell_type": "code",
   "execution_count": 52,
   "metadata": {
    "collapsed": false
   },
   "outputs": [
    {
     "data": {
      "text/plain": [
       "(100,)"
      ]
     },
     "execution_count": 52,
     "metadata": {},
     "output_type": "execute_result"
    }
   ],
   "source": [
    "abs(np.diag(DX)).shape"
   ]
  },
  {
   "cell_type": "code",
   "execution_count": 50,
   "metadata": {
    "collapsed": false
   },
   "outputs": [
    {
     "ename": "SyntaxError",
     "evalue": "invalid syntax (<ipython-input-50-da5363c712ab>, line 2)",
     "output_type": "error",
     "traceback": [
      "\u001b[0;36m  File \u001b[0;32m\"<ipython-input-50-da5363c712ab>\"\u001b[0;36m, line \u001b[0;32m2\u001b[0m\n\u001b[0;31m    for k = 1:2:\u001b[0m\n\u001b[0m          ^\u001b[0m\n\u001b[0;31mSyntaxError\u001b[0m\u001b[0;31m:\u001b[0m invalid syntax\n"
     ]
    }
   ],
   "source": [
    "# MAIN loop\n",
    "for k in range(N):\n",
    "    lam = lam_list[k]\n",
    "    print(\"lambda = \"+str(lam))\n",
    "    nit = 0\n",
    "    res = LA.norm(Y)\n",
    "    \n",
    "    while(res > delta):\n",
    "        nit += 1\n",
    "        # Sub-problem w.r.t. C.\n",
    "        # Solve the Sylvester equation KCL+lambda*C = Y using eigendecomposition of K and L. \n",
    "        UY, DY = LA.eig(L)\n",
    "        dy = abs(np.diag(DY))###################################\n",
    "        Q = Ytilde * UY\n",
    "        V = Q / (dx*dy.T+lam)###################################\n",
    "        C = np.dot(np.dot(UX,V),UY.T)\n",
    "        \n",
    "        # Sub-problem w.r.t. L\n",
    "        F = np.dot(V,UY.T)\n",
    "        E = np.dot(DX,F)\n",
    "        R = np.dot(E.T,E)\n",
    "        UE, DE = LA.eig(R)\n",
    "        dep = abs(np.diag(DE))###################################"
   ]
  },
  {
   "cell_type": "code",
   "execution_count": 9,
   "metadata": {
    "collapsed": false
   },
   "outputs": [
    {
     "data": {
      "text/plain": [
       "(100, 100)"
      ]
     },
     "execution_count": 9,
     "metadata": {},
     "output_type": "execute_result"
    }
   ],
   "source": [
    "def okl(K,Y,lam):\n",
    "#   Inputs:\n",
    "#   K: Input kernel matrix: (l x l) matrix,\n",
    "#   Y: Training outputs: (l x m) matrix.\n",
    "#   lam: Vector of regularization parameters."
   ]
  },
  {
   "cell_type": "code",
   "execution_count": null,
   "metadata": {
    "collapsed": true
   },
   "outputs": [],
   "source": [
    "\n",
    "    "
   ]
  }
 ],
 "metadata": {
  "kernelspec": {
   "display_name": "Python 2",
   "language": "python",
   "name": "python2"
  },
  "language_info": {
   "codemirror_mode": {
    "name": "ipython",
    "version": 2
   },
   "file_extension": ".py",
   "mimetype": "text/x-python",
   "name": "python",
   "nbconvert_exporter": "python",
   "pygments_lexer": "ipython2",
   "version": "2.7.13"
  }
 },
 "nbformat": 4,
 "nbformat_minor": 2
}
