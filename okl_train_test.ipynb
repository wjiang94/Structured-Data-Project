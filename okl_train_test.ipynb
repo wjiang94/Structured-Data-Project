{
 "cells": [
  {
   "cell_type": "markdown",
   "metadata": {},
   "source": [
    "# Load Toy dataset"
   ]
  },
  {
   "cell_type": "code",
   "execution_count": 1,
   "metadata": {
    "collapsed": true
   },
   "outputs": [],
   "source": [
    "import scipy.io\n",
    "import numpy as np\n",
    "from numpy import linalg as LA\n",
    "import time\n",
    "import matplotlib.pyplot as plt\n",
    "%matplotlib inline\n",
    "mat = scipy.io.loadmat('okl/data/synthdata.mat')"
   ]
  },
  {
   "cell_type": "code",
   "execution_count": 2,
   "metadata": {
    "collapsed": false
   },
   "outputs": [
    {
     "name": "stdout",
     "output_type": "stream",
     "text": [
      "Shape of Ktrain:\n",
      "(100, 100)\n",
      "Shape of Kvalid:\n",
      "(100, 100)\n",
      "Shape of Ytrain:\n",
      "(100, 200)\n",
      "Shape of Yvalid:\n",
      "(100, 200)\n"
     ]
    }
   ],
   "source": [
    "print('Shape of Ktrain:')\n",
    "print(mat['Ktrain'].shape)\n",
    "print('Shape of Kvalid:')\n",
    "print(mat['Kvalid'].shape)\n",
    "\n",
    "print('Shape of Ytrain:')\n",
    "print(mat['Ytrain'].shape)\n",
    "print('Shape of Yvalid:')\n",
    "print(mat['Yvalid'].shape)"
   ]
  },
  {
   "cell_type": "markdown",
   "metadata": {},
   "source": [
    "# OKL"
   ]
  },
  {
   "cell_type": "code",
   "execution_count": 3,
   "metadata": {
    "collapsed": false
   },
   "outputs": [],
   "source": [
    "def okl(K,Y,lam_list):\n",
    "    \n",
    "    \"\"\"\n",
    "    OKL with block coordinate descent\n",
    "    \n",
    "    model = okl(K,Y,lam_list)\n",
    "    -------------------------------------------   \n",
    "    Inputs:\n",
    "        K: input kernel matrix: (l x l) matrix,\n",
    "        Y: training outputs: (l x m) matrix.\n",
    "        lam_list: list of regularization parameters.\n",
    "        \n",
    "    --------------------------------------------\n",
    "    Output:\n",
    "        model : output model containing the following information:\n",
    "        L : output kernel\n",
    "        C : coefficient matrix\n",
    "        lambda : regularization parameter\n",
    "        J : value of the objective functional\n",
    "        time : execution time          \n",
    "    \"\"\"\n",
    "\n",
    "    #constants\n",
    "    l = K.shape[0]\n",
    "    m = Y.shape[1]\n",
    "    N = lam_list.shape[0]\n",
    "    MAX_ITER = 1000\n",
    "    TOL = 0.01\n",
    "    delta = TOL * LA.norm(Y)\n",
    "\n",
    "    # initialization \n",
    "    J = np.zeros((MAX_ITER,1))\n",
    "    L = np.eye(m)\n",
    "    C = np.zeros((l,m))\n",
    "\n",
    "    # eigendecomposition of the input kernel matrix\n",
    "    DX, UX = LA.eigh(K)\n",
    "    '''\n",
    "    For Symetric Real matrix :\n",
    "    LA.eig -> complex space (due to computation issue)\n",
    "    LA.eigh -> real space\n",
    "    '''\n",
    "    DX_ = DX.reshape((len(DX),1)) \n",
    "    dx = abs(DX_)\n",
    "    '''\n",
    "    The eigenvalues may be negative -> abs\n",
    "    '''\n",
    "    DX = np.diag(DX)\n",
    "    Ytilde = np.dot(UX.T,Y)\n",
    "\n",
    "    # MAIN loop\n",
    "    model={}\n",
    "    for k in range(N):\n",
    "        start_time = time.time()\n",
    "        lam = lam_list[k]\n",
    "        print(\"lambda = \"+str(lam))\n",
    "        nit = 0\n",
    "        res = LA.norm(Y)\n",
    "    \n",
    "        while(res > delta):\n",
    "            # Sub-problem w.r.t. C.\n",
    "            # Solve the Sylvester equation KCL+lambda*C = Y using eigendecomposition of K and L. \n",
    "            DY, UY = LA.eigh(L)\n",
    "            DY_ = DY.reshape((len(DY),1))\n",
    "            dy = abs(DY_)\n",
    "            DY = np.diag(DY)\n",
    "            Q = np.dot(Ytilde,UY)\n",
    "            V = Q / (np.dot(dx,dy.T)+lam) #element wise division\n",
    "            C = np.dot(np.dot(UX,V),UY.T)\n",
    "        \n",
    "            # Sub-problem w.r.t. L\n",
    "            F = np.dot(V,UY.T)\n",
    "            E = np.dot(DX,F)\n",
    "            R = np.dot(E.T,E)\n",
    "            DE, UE = LA.eigh(R)        \n",
    "            DE_ = DE.reshape((len(DE),1))\n",
    "            dep = abs(DE_)+lam\n",
    "            DE = np.diag(DE)\n",
    "        \n",
    "            Lp = L\n",
    "            temp = np.dot(R,L) + np.dot(L.T,R.T) + lam*np.dot(E.T,F)\n",
    "            P = np.dot(np.dot(UE.T,temp),UE)\n",
    "            temp = np.dot(dep,np.ones((1,m))) + np.dot(np.ones((m,1)),dep.T)\n",
    "            L =np.dot(np.dot(UE, P/temp), UE.T)\n",
    "        \n",
    "            # Compute the value of the objective functional\n",
    "            temp = F / 4 - Ytilde / (2*lam)\n",
    "            J[nit] = LA.norm(Y)**2 / (2*lam) + np.trace(np.dot(np.dot(temp.T,E),L))\n",
    "            #Compute the variation of L\n",
    "            res = LA.norm(L-Lp)\n",
    "        \n",
    "            #Check whether the maximum number of iterations has been reached\n",
    "            if nit >= MAX_ITER:\n",
    "                print('Reached maximum number of iterations')\n",
    "                break\n",
    "            \n",
    "            nit += 1\n",
    "            modelk={}\n",
    "            modelk['L']=L\n",
    "            modelk['C']=C\n",
    "            modelk['nit']=nit\n",
    "            modelk['lambda']=lam\n",
    "            modelk['J']=J[:nit]\n",
    "            modelk['time']=time.time() - start_time\n",
    "            model[k]=modelk\n",
    "    return model"
   ]
  },
  {
   "cell_type": "markdown",
   "metadata": {},
   "source": [
    "# Training"
   ]
  },
  {
   "cell_type": "code",
   "execution_count": 4,
   "metadata": {
    "collapsed": false
   },
   "outputs": [
    {
     "name": "stdout",
     "output_type": "stream",
     "text": [
      "lambda = 1031.82831001\n",
      "lambda = 693.735064446\n",
      "lambda = 466.422887388\n",
      "lambda = 313.592783511\n",
      "lambda = 210.839640441\n",
      "lambda = 141.755028555\n",
      "lambda = 95.3069739575\n",
      "lambda = 64.0782861638\n",
      "lambda = 43.0821228205\n",
      "lambda = 28.9656515154\n",
      "lambda = 19.4746431416\n",
      "lambda = 13.0934988736\n",
      "lambda = 8.80322743312\n",
      "lambda = 5.9187245508\n",
      "lambda = 3.97937013151\n",
      "lambda = 2.67547281642\n",
      "lambda = 1.7988160324\n",
      "lambda = 1.20940833282\n",
      "lambda = 0.813128462917\n",
      "lambda = 0.54669533793\n",
      "lambda = 0.367562822044\n",
      "lambda = 0.247125626972\n",
      "lambda = 0.166151394657\n",
      "lambda = 0.111709523147\n",
      "lambda = 0.0751063064346\n",
      "lambda = 0.0504966551406\n",
      "lambda = 0.0339507066907\n",
      "lambda = 0.0228262739699\n",
      "lambda = 0.0153469201125\n",
      "lambda = 0.0103182831001\n"
     ]
    }
   ],
   "source": [
    "Ktrain = mat['Ktrain']\n",
    "Ytrain = mat['Ytrain']\n",
    "N = 30\n",
    "\n",
    "######################why choose lam_list like this ?\n",
    "lam_list = np.logspace(-5,0,N) * np.sqrt(LA.norm(np.dot(np.dot(Ytrain.T,Ktrain),Ytrain)))\n",
    "lam_list = np.sort(lam_list)[::-1]\n",
    "\n",
    "model = okl(Ktrain,Ytrain,lam_list)"
   ]
  },
  {
   "cell_type": "code",
   "execution_count": 5,
   "metadata": {
    "collapsed": false
   },
   "outputs": [
    {
     "data": {
      "text/plain": [
       "array([[ 0.00683449,  0.00407938,  0.00498564, ...,  0.00105408,\n",
       "         0.00450809,  0.0033162 ],\n",
       "       [ 0.00407938,  0.00422064,  0.00466445, ...,  0.00164804,\n",
       "         0.00384093,  0.00296831],\n",
       "       [ 0.00498564,  0.00466445,  0.011979  , ...,  0.00357094,\n",
       "         0.00569083,  0.00579869],\n",
       "       ..., \n",
       "       [ 0.00105408,  0.00164804,  0.00357094, ...,  0.00303124,\n",
       "         0.00172028,  0.00241348],\n",
       "       [ 0.00450809,  0.00384093,  0.00569083, ...,  0.00172028,\n",
       "         0.00514177,  0.00361208],\n",
       "       [ 0.0033162 ,  0.00296831,  0.00579869, ...,  0.00241348,\n",
       "         0.00361208,  0.0042917 ]])"
      ]
     },
     "execution_count": 5,
     "metadata": {},
     "output_type": "execute_result"
    }
   ],
   "source": [
    "model[0]['L']"
   ]
  },
  {
   "cell_type": "markdown",
   "metadata": {},
   "source": [
    "# Test"
   ]
  },
  {
   "cell_type": "code",
   "execution_count": 16,
   "metadata": {
    "collapsed": true
   },
   "outputs": [],
   "source": [
    "Kvalid = mat['Kvalid']\n",
    "Yvalid = mat['Yvalid']\n",
    "Ktest = mat['Ktest']\n",
    "Y0 = mat['Y0']\n",
    "def mse(Y,Y_pred):\n",
    "    return np.mean((Y-Y_pred)**2)"
   ]
  },
  {
   "cell_type": "markdown",
   "metadata": {},
   "source": [
    "### Identity baseline"
   ]
  },
  {
   "cell_type": "code",
   "execution_count": 17,
   "metadata": {
    "collapsed": false
   },
   "outputs": [],
   "source": [
    "#Identity baseline\n",
    "IDVMSE= np.zeros((N,1))\n",
    "IDMSE = np.zeros((N,1))\n",
    "DX,UX = LA.eigh(Ktrain)\n",
    "DX_ = DX.reshape((len(DX),1))\n",
    "dx = abs(DX_)\n",
    "DX = np.diag(DX)\n",
    "l = Ktrain.shape[0]\n",
    "m = Ytrain.shape[1]\n",
    "for k in range(N):\n",
    "    lam = lam_list[k]\n",
    "    temp =  np.dot(dx,np.ones((1,m))) + lam\n",
    "    C = np.dot(UX, np.dot(UX.T,Ytrain) / temp)\n",
    "    IDVMSE[k] = mse(Yvalid,np.dot(Kvalid,C))\n",
    "    IDMSE[k] = mse(Y0,np.dot(Ktest,C))\n",
    "ii = np.argmin(IDVMSE)"
   ]
  },
  {
   "cell_type": "code",
   "execution_count": 18,
   "metadata": {
    "collapsed": false
   },
   "outputs": [
    {
     "name": "stdout",
     "output_type": "stream",
     "text": [
      "For baseline method, when lambda = 0.813,\n",
      "validation MSE reaches the minimum = 19.953\n"
     ]
    }
   ],
   "source": [
    "print('For baseline method, when lambda = %.3f,\\nvalidation MSE reaches the minimum = %.3f' %(lam_list[ii],IDVMSE[ii]))"
   ]
  },
  {
   "cell_type": "markdown",
   "metadata": {},
   "source": [
    "### OKL"
   ]
  },
  {
   "cell_type": "code",
   "execution_count": 21,
   "metadata": {
    "collapsed": false
   },
   "outputs": [],
   "source": [
    "def predict(K,C,L):\n",
    "    return np.dot(np.dot(K,C),L)\n",
    "OKLVMSE= np.zeros((N,1))\n",
    "OKLMSE = np.zeros((N,1))\n",
    "for k in range(N):\n",
    "    OKLVMSE[k] = mse(Yvalid, predict(Kvalid,model[k]['C'],model[k]['L']))\n",
    "    OKLMSE[k] =mse(Y0, predict(Ktest,model[k]['C'],model[k]['L']))\n",
    "jj = np.argmin(OKLVMSE)"
   ]
  },
  {
   "cell_type": "code",
   "execution_count": 22,
   "metadata": {
    "collapsed": false
   },
   "outputs": [
    {
     "name": "stdout",
     "output_type": "stream",
     "text": [
      "For OKL, when lambda = 13.093,\n",
      "validation MSE reaches the minimum = 19.036\n"
     ]
    }
   ],
   "source": [
    "print('For OKL, when lambda = %.3f,\\nvalidation MSE reaches the minimum = %.3f' %(lam_list[jj],OKLVMSE[jj]))"
   ]
  },
  {
   "cell_type": "markdown",
   "metadata": {},
   "source": [
    "# Plot (model selection)"
   ]
  },
  {
   "cell_type": "code",
   "execution_count": 25,
   "metadata": {
    "collapsed": false
   },
   "outputs": [
    {
     "data": {
      "text/plain": [
       "<matplotlib.legend.Legend at 0x29eddaf4320>"
      ]
     },
     "execution_count": 25,
     "metadata": {},
     "output_type": "execute_result"
    },
    {
     "data": {
      "image/png": "[encoded data removed]",
      "text/plain": [
       "<matplotlib.figure.Figure at 0x29eddabbf60>"
      ]
     },
     "metadata": {},
     "output_type": "display_data"
    }
   ],
   "source": [
    "plt.semilogx(lam_list, OKLVMSE,label='OKL',color='red')\n",
    "plt.semilogx(lam_list, IDVMSE,label='identity',color='blue')\n",
    "plt.axvline(x=lam_list[jj],color='red',linestyle='--')\n",
    "plt.axvline(x=lam_list[ii],color='blue',linestyle='--')\n",
    "plt.title('Model selection : Comparison of validation MSE')\n",
    "plt.grid(True)\n",
    "plt.xlabel(\"lambda\")\n",
    "plt.ylabel(\"MSE\")\n",
    "plt.legend(loc=0)\n"
   ]
  },
  {
   "cell_type": "markdown",
   "metadata": {},
   "source": [
    "# Plot (test result)"
   ]
  },
  {
   "cell_type": "code",
   "execution_count": 24,
   "metadata": {
    "collapsed": false
   },
   "outputs": [
    {
     "data": {
      "text/plain": [
       "<matplotlib.legend.Legend at 0x29eddd585f8>"
      ]
     },
     "execution_count": 24,
     "metadata": {},
     "output_type": "execute_result"
    },
    {
     "data": {
      "image/png": "[encoded data removed]",
      "text/plain": [
       "<matplotlib.figure.Figure at 0x29eddcd38d0>"
      ]
     },
     "metadata": {},
     "output_type": "display_data"
    }
   ],
   "source": [
    "plt.semilogx(lam_list, OKLMSE,label='OKL',color='red')\n",
    "plt.semilogx(lam_list, IDMSE,label='identity',color='blue')\n",
    "plt.axvline(x=lam_list[jj],color='red',linestyle='--')\n",
    "plt.axvline(x=lam_list[ii],color='blue',linestyle='--')\n",
    "plt.title('Comparison of test MSE')\n",
    "plt.grid(True)\n",
    "plt.xlabel(\"lambda\")\n",
    "plt.ylabel(\"MSE\")\n",
    "plt.legend(loc=0)\n"
   ]
  },
  {
   "cell_type": "code",
   "execution_count": null,
   "metadata": {
    "collapsed": true
   },
   "outputs": [],
   "source": []
  }
 ],
 "metadata": {
  "kernelspec": {
   "display_name": "Python [conda root]",
   "language": "python",
   "name": "conda-root-py"
  },
  "language_info": {
   "codemirror_mode": {
    "name": "ipython",
    "version": 3
   },
   "file_extension": ".py",
   "mimetype": "text/x-python",
   "name": "python",
   "nbconvert_exporter": "python",
   "pygments_lexer": "ipython3",
   "version": "3.5.2"
  }
 },
 "nbformat": 4,
 "nbformat_minor": 2
}
